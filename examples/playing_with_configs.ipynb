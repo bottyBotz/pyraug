{
 "metadata": {
  "language_info": {
   "codemirror_mode": {
    "name": "ipython",
    "version": 3
   },
   "file_extension": ".py",
   "mimetype": "text/x-python",
   "name": "python",
   "nbconvert_exporter": "python",
   "pygments_lexer": "ipython3",
   "version": "3.8.10"
  },
  "orig_nbformat": 4,
  "kernelspec": {
   "name": "python3",
   "display_name": "Python 3.8.10 64-bit ('software': conda)"
  },
  "interpreter": {
   "hash": "eb9d8ccfba993fe204e77cb7497041ea2864b7db215d14ecc31a7f8eeb5cd52c"
  }
 },
 "nbformat": 4,
 "nbformat_minor": 2,
 "cells": [
  {
   "source": [
    "# Tutorial 2\n",
    "\n",
    "In this tutorial, we will see how to use the built-in function of Pyraug to set upd our own configuration for the trainer, models and samplers. This follows the section ``Setting up your own configuations`` of the documentation"
   ],
   "cell_type": "markdown",
   "metadata": {}
  },
  {
   "source": [
    "## Link between `.json` and `dataclasses`\n",
    "\n",
    "In pyraug, the configurations of the models, trainers and samplers are stored and used as dataclasses.dataclass and all inherit from the BaseConfig. Hence, any configuration class has a classmethod from_json_file coming from BaseConfig allowing to directly load config from `.json` files into dataclasses or save dataclasses into a ``.json`` file."
   ],
   "cell_type": "markdown",
   "metadata": {}
  },
  {
   "source": [
    "### Loading a configuration from a `.json`"
   ],
   "cell_type": "markdown",
   "metadata": {}
  },
  {
   "source": [
    "Since all `ModelConfig` inherit from `BaseModelConfig` data class, any pyraug's model configuration can be loaded from a `.json` file with the `from_json_file` classmethod. Defining your own `model_config.json` may be useful when you decide to use the Pyraug's scripts which take as arguments paths to json files.\n",
    "\n",
    "**note:** Make sure the keys and types match the one expected in the `dataclass` or errors will be raised. Check documentation to find the expected types and keys "
   ],
   "cell_type": "markdown",
   "metadata": {}
  },
  {
   "cell_type": "code",
   "execution_count": 33,
   "metadata": {},
   "outputs": [
    {
     "output_type": "stream",
     "name": "stdout",
     "text": [
      "BaseModelConfig(input_dim=784, latent_dim=10, uses_default_encoder=True, uses_default_decoder=True)\n"
     ]
    }
   ],
   "source": [
    "from pyraug.models.base.base_config import BaseModelConfig\n",
    "config = BaseModelConfig.from_json_file('_demo_data/configs/model_config.json')\n",
    "print(config)"
   ]
  },
  {
   "source": [
    "Let's try with a `RHVAE` model"
   ],
   "cell_type": "markdown",
   "metadata": {}
  },
  {
   "cell_type": "code",
   "execution_count": 34,
   "metadata": {},
   "outputs": [
    {
     "output_type": "stream",
     "name": "stdout",
     "text": [
      "RHVAEConfig(input_dim=784, latent_dim=10, uses_default_encoder=True, uses_default_decoder=True, n_lf=3, eps_lf=0.0001, beta_zero=0.3, temperature=1.5, regularization=0.01, uses_default_metric=True)\n"
     ]
    }
   ],
   "source": [
    "from pyraug.models.rhvae import RHVAEConfig\n",
    "config = RHVAEConfig.from_json_file('_demo_data/configs/rhvae_config.json')\n",
    "print(config)"
   ]
  },
  {
   "source": [
    "### Saving a configuration to a `.json`"
   ],
   "cell_type": "markdown",
   "metadata": {}
  },
  {
   "source": [
    "Conversely, you can save a `dataclass` quite easily using the `save_json` method coming form `BaseModelConfig`"
   ],
   "cell_type": "markdown",
   "metadata": {}
  },
  {
   "cell_type": "code",
   "execution_count": 46,
   "metadata": {},
   "outputs": [
    {
     "output_type": "stream",
     "name": "stdout",
     "text": [
      "BaseModelConfig(input_dim=None, latent_dim=11, uses_default_encoder=True, uses_default_decoder=True)\n"
     ]
    }
   ],
   "source": [
    "from pyraug.models.base.base_config import BaseModelConfig\n",
    "\n",
    "my_model_config = BaseModelConfig(latent_dim=11)\n",
    "print(my_model_config)"
   ]
  },
  {
   "source": [
    "Save the `.json` file ..."
   ],
   "cell_type": "markdown",
   "metadata": {}
  },
  {
   "cell_type": "code",
   "execution_count": 47,
   "metadata": {},
   "outputs": [],
   "source": [
    "my_model_config.save_json(dir_path='_demo_data/configs', filename='my_model_config')"
   ]
  },
  {
   "source": [
    "... and reload it "
   ],
   "cell_type": "markdown",
   "metadata": {}
  },
  {
   "cell_type": "code",
   "execution_count": 48,
   "metadata": {},
   "outputs": [
    {
     "output_type": "execute_result",
     "data": {
      "text/plain": [
       "BaseModelConfig(input_dim=None, latent_dim=11, uses_default_encoder=True, uses_default_decoder=True)"
      ]
     },
     "metadata": {},
     "execution_count": 48
    }
   ],
   "source": [
    "BaseModelConfig.from_json_file('_demo_data/configs/my_model_config.json')"
   ]
  },
  {
   "source": [
    "The same can be done with a `TrainingConfig` or `SamplerConfig`"
   ],
   "cell_type": "markdown",
   "metadata": {}
  },
  {
   "cell_type": "code",
   "execution_count": 55,
   "metadata": {},
   "outputs": [
    {
     "output_type": "stream",
     "name": "stdout",
     "text": [
      "TrainingConfig(output_dir=None, batch_size=50, max_epochs=10, learning_rate=0.1, train_early_stopping=50, eval_early_stopping=None, steps_saving=None, seed=8, no_cuda=False, verbose=True)\n"
     ]
    },
    {
     "output_type": "execute_result",
     "data": {
      "text/plain": [
       "TrainingConfig(output_dir=None, batch_size=50, max_epochs=10, learning_rate=0.1, train_early_stopping=50, eval_early_stopping=None, steps_saving=None, seed=8, no_cuda=False, verbose=True)"
      ]
     },
     "metadata": {},
     "execution_count": 55
    }
   ],
   "source": [
    "from pyraug.trainers.training_config import TrainingConfig\n",
    "my_training_config = TrainingConfig(max_epochs=10, learning_rate=0.1)\n",
    "print(my_training_config)\n",
    "my_training_config.save_json(dir_path='_demo_data/configs', filename='my_training_config')\n",
    "TrainingConfig.from_json_file('_demo_data/configs/my_training_config.json')"
   ]
  },
  {
   "cell_type": "code",
   "execution_count": 56,
   "metadata": {},
   "outputs": [
    {
     "output_type": "stream",
     "name": "stdout",
     "text": [
      "BaseSamplerConfig(output_dir=None, batch_size=10, samples_per_save=100, no_cuda=False)\n"
     ]
    },
    {
     "output_type": "execute_result",
     "data": {
      "text/plain": [
       "BaseSamplerConfig(output_dir=None, batch_size=10, samples_per_save=100, no_cuda=False)"
      ]
     },
     "metadata": {},
     "execution_count": 56
    }
   ],
   "source": [
    "from pyraug.models.base.base_config import BaseSamplerConfig\n",
    "my_sampler_config = BaseSamplerConfig(batch_size=10, samples_per_save=100)\n",
    "print(my_sampler_config)\n",
    "my_sampler_config.save_json(dir_path='_demo_data/configs', filename='my_sampler_config')\n",
    "BaseSamplerConfig.from_json_file('_demo_data/configs/my_sampler_config.json')"
   ]
  },
  {
   "source": [
    "###"
   ],
   "cell_type": "markdown",
   "metadata": {}
  }
 ]
}